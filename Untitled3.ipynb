{
 "cells": [
  {
   "cell_type": "code",
   "execution_count": 38,
   "id": "5c50efd7-5771-4378-995a-1cafcd4eceff",
   "metadata": {},
   "outputs": [
    {
     "name": "stdin",
     "output_type": "stream",
     "text": [
      "Rows 1 3\n",
      "col 1 3\n",
      "Rows 2 3\n",
      "col 2 3\n"
     ]
    }
   ],
   "source": [
    "row1 = int(input('Rows 1'))\n",
    "col1 = int(input('col 1'))\n",
    "row2 = int(input('Rows 2'))\n",
    "col2 = int(input('col 2'))"
   ]
  },
  {
   "cell_type": "code",
   "execution_count": 39,
   "id": "e5185cca-1fb8-4ae2-964b-727a500c9b9f",
   "metadata": {},
   "outputs": [
    {
     "name": "stdout",
     "output_type": "stream",
     "text": [
      "3 3 3 3\n"
     ]
    }
   ],
   "source": [
    "array1 =[]\n",
    "array2 =[]\n",
    "print(row1,col1,row2,col2)\n"
   ]
  },
  {
   "cell_type": "code",
   "execution_count": 42,
   "id": "12dd197e-d034-49b9-a413-b5d94caae364",
   "metadata": {},
   "outputs": [
    {
     "name": "stdin",
     "output_type": "stream",
     "text": [
      "input : 1\n",
      "input : 2\n",
      "input : 3\n",
      "input : 4\n",
      "input : 5\n",
      "input : 6\n",
      "input : 7\n",
      "input : 8\n",
      "input : 9\n"
     ]
    }
   ],
   "source": [
    "for i in range(0,row1):\n",
    "    temp = []\n",
    "    for j in range(0,col1): \n",
    "        k =int(input('input :'))\n",
    "        temp.append(k)\n",
    "    array1.append(temp)\n",
    "    "
   ]
  },
  {
   "cell_type": "code",
   "execution_count": 43,
   "id": "bf4331a5-9c49-43ad-ae3f-6945d7180566",
   "metadata": {},
   "outputs": [
    {
     "data": {
      "text/plain": [
       "[[1, 2, 3], [4, 5, 6], [7, 8, 9], [1, 2, 3], [4, 5, 6], [7, 8, 9]]"
      ]
     },
     "execution_count": 43,
     "metadata": {},
     "output_type": "execute_result"
    }
   ],
   "source": [
    "array1"
   ]
  },
  {
   "cell_type": "code",
   "execution_count": 45,
   "id": "9d81b73e-3a3a-4551-a4bf-34dbf19d2e0d",
   "metadata": {},
   "outputs": [
    {
     "name": "stdin",
     "output_type": "stream",
     "text": [
      "input : 10\n",
      "input : 11\n",
      "input : 12\n",
      "input : 13\n",
      "input : 14\n",
      "input : 15\n",
      "input : 16\n",
      "input : 17\n",
      "input : 18\n"
     ]
    }
   ],
   "source": [
    "for i in range(0,row2):\n",
    "    temp = []\n",
    "    for j in range(0,col2): \n",
    "        k =int(input('input :'))\n",
    "        temp.append(k)\n",
    "    array2.append(temp)\n"
   ]
  },
  {
   "cell_type": "code",
   "execution_count": 46,
   "id": "8f1fa160-7f34-4d1c-8c15-f62fca70a600",
   "metadata": {},
   "outputs": [
    {
     "data": {
      "text/plain": [
       "[[10, 11, 12],\n",
       " [13, 14, 15],\n",
       " [16, 17, 18],\n",
       " [10, 11, 12],\n",
       " [13, 14, 15],\n",
       " [16, 17, 18]]"
      ]
     },
     "execution_count": 46,
     "metadata": {},
     "output_type": "execute_result"
    }
   ],
   "source": [
    "array2"
   ]
  },
  {
   "cell_type": "code",
   "execution_count": 47,
   "id": "f143f826-a23b-46b1-a96a-756a4cc76d27",
   "metadata": {},
   "outputs": [],
   "source": [
    "result=[]"
   ]
  },
  {
   "cell_type": "code",
   "execution_count": 48,
   "id": "421f5a15-743d-47c0-9033-7b0f33e053db",
   "metadata": {},
   "outputs": [],
   "source": [
    "if col1==row2:\n",
    "    for i in range(row1):\n",
    "        temp =[]\n",
    "        for j in range(col2):\n",
    "            r=0\n",
    "            for k in range(col2):\n",
    "                r+=array1[i][k]*array2[k][j]\n",
    "            temp.append(r)\n",
    "\n",
    "        result.append(temp)"
   ]
  },
  {
   "cell_type": "code",
   "execution_count": 49,
   "id": "46a228e0-a61e-40c7-9d7a-5068e39a77ab",
   "metadata": {},
   "outputs": [
    {
     "data": {
      "text/plain": [
       "[[84, 90, 96], [201, 216, 231], [318, 342, 366]]"
      ]
     },
     "execution_count": 49,
     "metadata": {},
     "output_type": "execute_result"
    }
   ],
   "source": [
    "result"
   ]
  },
  {
   "cell_type": "code",
   "execution_count": null,
   "id": "1307494f-13c0-4f2f-b450-752ae26992d8",
   "metadata": {},
   "outputs": [],
   "source": []
  }
 ],
 "metadata": {
  "kernelspec": {
   "display_name": "Python 3 (ipykernel)",
   "language": "python",
   "name": "python3"
  },
  "language_info": {
   "codemirror_mode": {
    "name": "ipython",
    "version": 3
   },
   "file_extension": ".py",
   "mimetype": "text/x-python",
   "name": "python",
   "nbconvert_exporter": "python",
   "pygments_lexer": "ipython3",
   "version": "3.8.10"
  }
 },
 "nbformat": 4,
 "nbformat_minor": 5
}
