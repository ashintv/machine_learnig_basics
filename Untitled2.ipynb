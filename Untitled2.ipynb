{
 "cells": [
  {
   "cell_type": "code",
   "execution_count": 12,
   "id": "6aeccffd-32bc-4255-b615-58850341c43f",
   "metadata": {},
   "outputs": [],
   "source": [
    "import numpy as np"
   ]
  },
  {
   "cell_type": "code",
   "execution_count": 13,
   "id": "03f5de0b-9ff7-49ac-a3c2-1395d7cdd416",
   "metadata": {},
   "outputs": [],
   "source": [
    "array1 = np.array([[1,2],[3,4]])"
   ]
  },
  {
   "cell_type": "code",
   "execution_count": 14,
   "id": "4e3842ce-5307-42bb-9622-878872c96a4d",
   "metadata": {},
   "outputs": [],
   "source": [
    "array2 = np.array([[5,6],[7,8]])"
   ]
  },
  {
   "cell_type": "code",
   "execution_count": 15,
   "id": "2c393bb0-b3d7-4acd-956f-52eb283ab34f",
   "metadata": {},
   "outputs": [],
   "source": [
    "r1 = 2\n",
    "r2 = 2\n",
    "c1 = 2\n",
    "c2 = 2"
   ]
  },
  {
   "cell_type": "code",
   "execution_count": 20,
   "id": "6c94b65d-e81d-49e7-84cd-4a004804cb18",
   "metadata": {},
   "outputs": [],
   "source": [
    "result=np.empty((2,2))\n"
   ]
  },
  {
   "cell_type": "code",
   "execution_count": 21,
   "id": "70c161b9-d962-431f-936e-76e0f7375429",
   "metadata": {},
   "outputs": [],
   "source": [
    "for i in range(r1):\n",
    "    for j in range(c2):\n",
    "        result[i,j]=0   \n",
    "        for k in range(c2):\n",
    "            result[i,j]+=array1[i,k]*array2[k,j]\n",
    "            "
   ]
  },
  {
   "cell_type": "code",
   "execution_count": 22,
   "id": "3e7b3323-38a4-47a7-a39e-a2dd8444d36b",
   "metadata": {},
   "outputs": [
    {
     "name": "stdout",
     "output_type": "stream",
     "text": [
      "[[19. 22.]\n",
      " [43. 50.]]\n"
     ]
    }
   ],
   "source": [
    "print(result)"
   ]
  },
  {
   "cell_type": "code",
   "execution_count": null,
   "id": "980162f8-d6de-40d8-8a8b-3408e9073988",
   "metadata": {},
   "outputs": [],
   "source": []
  }
 ],
 "metadata": {
  "kernelspec": {
   "display_name": "Python 3 (ipykernel)",
   "language": "python",
   "name": "python3"
  },
  "language_info": {
   "codemirror_mode": {
    "name": "ipython",
    "version": 3
   },
   "file_extension": ".py",
   "mimetype": "text/x-python",
   "name": "python",
   "nbconvert_exporter": "python",
   "pygments_lexer": "ipython3",
   "version": "3.8.10"
  }
 },
 "nbformat": 4,
 "nbformat_minor": 5
}
