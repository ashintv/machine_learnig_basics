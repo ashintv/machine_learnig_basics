{
 "cells": [
  {
   "cell_type": "markdown",
   "id": "bfbc085b-4726-4f41-af3b-b2e704d72b78",
   "metadata": {},
   "source": [
    "UNION AND INTERSECTION\n"
   ]
  },
  {
   "cell_type": "code",
   "execution_count": 40,
   "id": "7f05baf9-61a9-4d4d-a676-36e35aa7fc7b",
   "metadata": {},
   "outputs": [
    {
     "name": "stdin",
     "output_type": "stream",
     "text": [
      "No of Elements in List1 4\n",
      "Enter  element of lis1 1\n",
      "Enter  element of lis1 2\n",
      "Enter  element of lis1 'a'\n",
      "Enter  element of lis1 'b'\n",
      "No of Elements in List2 3\n",
      "Enter  element of lis2 1\n",
      "Enter  element of lis2 'a'\n",
      "Enter  element of lis2 55\n"
     ]
    },
    {
     "name": "stdout",
     "output_type": "stream",
     "text": [
      "[1, 2, 'a', 'b', 55]\n",
      "[1, 'a']\n"
     ]
    }
   ],
   "source": [
    "lis1 = []\n",
    "lis2 = []\n",
    "n  = int(input('No of Elements in List1'))\n",
    "for i in range(n):\n",
    "        k =eval(input('Enter  element of lis1'))\n",
    "        lis1.append(k)\n",
    "n  = int(input('No of Elements in List2'))\n",
    "for i in range(n):\n",
    "        k =eval(input('Enter  element of lis2'))\n",
    "        lis2.append(k)\n",
    "\n",
    "inter = []\n",
    "union = lis1\n",
    "for i in lis2:\n",
    "    if i not in union:\n",
    "        union.append(i)\n",
    "    else :\n",
    "        inter.append(i)\n",
    "print(union)\n",
    "print(inter)"
   ]
  },
  {
   "cell_type": "markdown",
   "id": "66fb21f9-43e7-44c4-b542-834ba5294f59",
   "metadata": {},
   "source": [
    "lis1"
   ]
  },
  {
   "cell_type": "code",
   "execution_count": 28,
   "id": "ff31dde0-2f52-4ad7-8a98-38a246ffb8a4",
   "metadata": {},
   "outputs": [
    {
     "data": {
      "text/plain": [
       "['1', 'A', '2', '22', 'A', '11']"
      ]
     },
     "execution_count": 28,
     "metadata": {},
     "output_type": "execute_result"
    }
   ],
   "source": [
    "lis1\n"
   ]
  },
  {
   "cell_type": "code",
   "execution_count": null,
   "id": "473e5046-95b7-4884-bc10-8184f1dcfc78",
   "metadata": {},
   "outputs": [],
   "source": []
  }
 ],
 "metadata": {
  "kernelspec": {
   "display_name": "Python 3 (ipykernel)",
   "language": "python",
   "name": "python3"
  },
  "language_info": {
   "codemirror_mode": {
    "name": "ipython",
    "version": 3
   },
   "file_extension": ".py",
   "mimetype": "text/x-python",
   "name": "python",
   "nbconvert_exporter": "python",
   "pygments_lexer": "ipython3",
   "version": "3.8.10"
  }
 },
 "nbformat": 4,
 "nbformat_minor": 5
}
