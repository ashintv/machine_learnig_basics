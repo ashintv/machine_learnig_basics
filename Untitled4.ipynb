{
 "cells": [
  {
   "cell_type": "code",
   "execution_count": null,
   "id": "2bf0d7ee-d649-419f-ae85-275d4c545820",
   "metadata": {},
   "outputs": [],
   "source": [
    "file = open('File.txt','r')\n"
   ]
  },
  {
   "cell_type": "code",
   "execution_count": null,
   "id": "21c265bd-d5fe-4d0a-a0d2-c9496b003f82",
   "metadata": {},
   "outputs": [],
   "source": [
    "st = file.read()"
   ]
  },
  {
   "cell_type": "code",
   "execution_count": null,
   "id": "e25a0252-ea45-4b03-baa3-331b0b8d5d4d",
   "metadata": {},
   "outputs": [],
   "source": [
    "st"
   ]
  },
  {
   "cell_type": "code",
   "execution_count": null,
   "id": "a1e612ad-ee83-4488-9f98-b0f64b31db6b",
   "metadata": {},
   "outputs": [],
   "source": [
    "lis = st.split()"
   ]
  },
  {
   "cell_type": "code",
   "execution_count": null,
   "id": "08b44d0c-1baa-4934-b8ac-4e1fc6b5ecf4",
   "metadata": {},
   "outputs": [],
   "source": [
    "dict = {}\n",
    "for i in lis:\n",
    "    count = 1\n",
    "    for j in lis:\n",
    "        if i==j:\n",
    "            dict[i]=count\n",
    "            count+=1\n",
    "\n",
    "print(dict)"
   ]
  },
  {
   "cell_type": "code",
   "execution_count": null,
   "id": "6f6fcded-c205-46c4-8a7c-174ddcfed027",
   "metadata": {},
   "outputs": [],
   "source": [
    "larg=0\n",
    "name={}\n",
    "for i in dict:\n",
    "    if dict[i]>=larg:\n",
    "        larg = dict[i]\n",
    "        name[i] = larg\n",
    "\n",
    "#print(f'Most frequent is {name} with count {dict[name]}')"
   ]
  },
  {
   "cell_type": "code",
   "execution_count": null,
   "id": "e50984c9-240b-46aa-82f4-391bf1e99b70",
   "metadata": {},
   "outputs": [],
   "source": [
    "file.close()"
   ]
  },
  {
   "cell_type": "code",
   "execution_count": null,
   "id": "6be263d1-d7b0-46c6-8eca-7ebfe31c8aef",
   "metadata": {},
   "outputs": [],
   "source": [
    "name"
   ]
  },
  {
   "cell_type": "code",
   "execution_count": null,
   "id": "42aff580-765e-4f11-b625-68b1885c6703",
   "metadata": {},
   "outputs": [],
   "source": []
  },
  {
   "cell_type": "code",
   "execution_count": null,
   "id": "90a02c7c-a0d6-4a57-bbf6-3e252a7e5c34",
   "metadata": {},
   "outputs": [],
   "source": []
  }
 ],
 "metadata": {
  "kernelspec": {
   "display_name": "Python 3 (ipykernel)",
   "language": "python",
   "name": "python3"
  },
  "language_info": {
   "codemirror_mode": {
    "name": "ipython",
    "version": 3
   },
   "file_extension": ".py",
   "mimetype": "text/x-python",
   "name": "python",
   "nbconvert_exporter": "python",
   "pygments_lexer": "ipython3",
   "version": "3.8.10"
  }
 },
 "nbformat": 4,
 "nbformat_minor": 5
}
